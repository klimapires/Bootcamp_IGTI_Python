{
  "nbformat": 4,
  "nbformat_minor": 0,
  "metadata": {
    "colab": {
      "name": "schoolwork_module4.ipynb",
      "provenance": [],
      "mount_file_id": "1GCVq0TnHUswAxGZhecHGI4D2h6m3u90v",
      "authorship_tag": "ABX9TyMKq489z0QdbZBchRtAsnUS"
    },
    "kernelspec": {
      "name": "python3",
      "display_name": "Python 3"
    }
  },
  "cells": [
    {
      "cell_type": "markdown",
      "metadata": {
        "id": "6f-Dwe3CJwKP"
      },
      "source": [
        "# **Trabalho prático módulo IV**\n",
        "\n",
        "### **Objetivos**\n",
        "\n",
        "Exercitar os seguintes conceitos trabalhados no Módulo:\n",
        "\n",
        "*   Python para aprendizado de máquina\n",
        "\n",
        "*   Programação concorrente com Python\n",
        "\n",
        "### **Enunciado**\n",
        "\n",
        "\n",
        "A linguagem Python é bastante utilizada no meio da ciência de dados e do aprendizado de máquina. Outras áreas do conhecimento, como a matemática, a física e a probabilidade, também a empregam bastante para ajudar a simular e a resolver problemas através da programação. Boa parte da popularidade dessa linguagem está relacionada à forma como o código é construído e à sua facilidade de leitura e de interpretação.\n",
        "Neste trabalho, será utilizado o scikit-learn e os conceitos apresentados na disciplina para a realização de uma análise de dados baseada em modelos de aprendizado de máquina. Para isso, será utilizado um conjunto de dados público.\n",
        "Esse conjunto de dados consiste em uma pesquisa realizada com um grupo de mulheres. Nessa pesquisa, foram coletados alguns indicadores sobre a saúde e os hábitos dessas pacientes, como número de vezes em que engravidou, seu nível de glicose, sua pressão sanguínea, etc., a fim de prever se a ela vai ou não desenvolver a diabetes. Na última coluna do conjunto de dados (outcome), o valor “1” indica que a paciente possui diabetes, e “0” indica que não. Desse modo, será possível utilizar os algoritmos apresentados e o scikit-learn para tentar prever a ocorrência ou não da doença.\n",
        "\n"
      ]
    },
    {
      "cell_type": "code",
      "metadata": {
        "id": "54phO8AsSMpN"
      },
      "source": [
        "#importando as bibliotecas\n",
        "import pandas as pd\n",
        "import matplotlib.pyplot as plt\n",
        "fonte = \"https://github.com/klimapires/Bootcamp_IGTI_Python/blob/main/datasets_diabetes.csv?raw=true\""
      ],
      "execution_count": 2,
      "outputs": []
    },
    {
      "cell_type": "code",
      "metadata": {
        "id": "j7zWyPCLMnec",
        "outputId": "9e9ea31e-efcb-4626-d59a-584ea54d53fb",
        "colab": {
          "base_uri": "https://localhost:8080/",
          "height": 204
        }
      },
      "source": [
        "#leitura do dataset\n",
        "df = pd.read_csv(fonte)\n",
        "df.head()"
      ],
      "execution_count": 3,
      "outputs": [
        {
          "output_type": "execute_result",
          "data": {
            "text/html": [
              "<div>\n",
              "<style scoped>\n",
              "    .dataframe tbody tr th:only-of-type {\n",
              "        vertical-align: middle;\n",
              "    }\n",
              "\n",
              "    .dataframe tbody tr th {\n",
              "        vertical-align: top;\n",
              "    }\n",
              "\n",
              "    .dataframe thead th {\n",
              "        text-align: right;\n",
              "    }\n",
              "</style>\n",
              "<table border=\"1\" class=\"dataframe\">\n",
              "  <thead>\n",
              "    <tr style=\"text-align: right;\">\n",
              "      <th></th>\n",
              "      <th>Pregnancies</th>\n",
              "      <th>Glucose</th>\n",
              "      <th>BloodPressure</th>\n",
              "      <th>SkinThickness</th>\n",
              "      <th>Insulin</th>\n",
              "      <th>BMI</th>\n",
              "      <th>DiabetesPedigreeFunction</th>\n",
              "      <th>Age</th>\n",
              "      <th>Outcome</th>\n",
              "    </tr>\n",
              "  </thead>\n",
              "  <tbody>\n",
              "    <tr>\n",
              "      <th>0</th>\n",
              "      <td>6</td>\n",
              "      <td>148</td>\n",
              "      <td>72</td>\n",
              "      <td>35</td>\n",
              "      <td>0</td>\n",
              "      <td>33.6</td>\n",
              "      <td>0.627</td>\n",
              "      <td>50</td>\n",
              "      <td>1</td>\n",
              "    </tr>\n",
              "    <tr>\n",
              "      <th>1</th>\n",
              "      <td>1</td>\n",
              "      <td>85</td>\n",
              "      <td>66</td>\n",
              "      <td>29</td>\n",
              "      <td>0</td>\n",
              "      <td>26.6</td>\n",
              "      <td>0.351</td>\n",
              "      <td>31</td>\n",
              "      <td>0</td>\n",
              "    </tr>\n",
              "    <tr>\n",
              "      <th>2</th>\n",
              "      <td>8</td>\n",
              "      <td>183</td>\n",
              "      <td>64</td>\n",
              "      <td>0</td>\n",
              "      <td>0</td>\n",
              "      <td>23.3</td>\n",
              "      <td>0.672</td>\n",
              "      <td>32</td>\n",
              "      <td>1</td>\n",
              "    </tr>\n",
              "    <tr>\n",
              "      <th>3</th>\n",
              "      <td>1</td>\n",
              "      <td>89</td>\n",
              "      <td>66</td>\n",
              "      <td>23</td>\n",
              "      <td>94</td>\n",
              "      <td>28.1</td>\n",
              "      <td>0.167</td>\n",
              "      <td>21</td>\n",
              "      <td>0</td>\n",
              "    </tr>\n",
              "    <tr>\n",
              "      <th>4</th>\n",
              "      <td>0</td>\n",
              "      <td>137</td>\n",
              "      <td>40</td>\n",
              "      <td>35</td>\n",
              "      <td>168</td>\n",
              "      <td>43.1</td>\n",
              "      <td>2.288</td>\n",
              "      <td>33</td>\n",
              "      <td>1</td>\n",
              "    </tr>\n",
              "  </tbody>\n",
              "</table>\n",
              "</div>"
            ],
            "text/plain": [
              "   Pregnancies  Glucose  BloodPressure  ...  DiabetesPedigreeFunction  Age  Outcome\n",
              "0            6      148             72  ...                     0.627   50        1\n",
              "1            1       85             66  ...                     0.351   31        0\n",
              "2            8      183             64  ...                     0.672   32        1\n",
              "3            1       89             66  ...                     0.167   21        0\n",
              "4            0      137             40  ...                     2.288   33        1\n",
              "\n",
              "[5 rows x 9 columns]"
            ]
          },
          "metadata": {
            "tags": []
          },
          "execution_count": 3
        }
      ]
    },
    {
      "cell_type": "code",
      "metadata": {
        "id": "32FxXFERU8fH",
        "outputId": "3fe50581-578f-46b3-f665-411a2c64909a",
        "colab": {
          "base_uri": "https://localhost:8080/"
        }
      },
      "source": [
        "#Resposta 1\n",
        "\n",
        "df.info()"
      ],
      "execution_count": 4,
      "outputs": [
        {
          "output_type": "stream",
          "text": [
            "<class 'pandas.core.frame.DataFrame'>\n",
            "RangeIndex: 768 entries, 0 to 767\n",
            "Data columns (total 9 columns):\n",
            " #   Column                    Non-Null Count  Dtype  \n",
            "---  ------                    --------------  -----  \n",
            " 0   Pregnancies               768 non-null    int64  \n",
            " 1   Glucose                   768 non-null    int64  \n",
            " 2   BloodPressure             768 non-null    int64  \n",
            " 3   SkinThickness             768 non-null    int64  \n",
            " 4   Insulin                   768 non-null    int64  \n",
            " 5   BMI                       768 non-null    float64\n",
            " 6   DiabetesPedigreeFunction  768 non-null    float64\n",
            " 7   Age                       768 non-null    int64  \n",
            " 8   Outcome                   768 non-null    int64  \n",
            "dtypes: float64(2), int64(7)\n",
            "memory usage: 54.1 KB\n"
          ],
          "name": "stdout"
        }
      ]
    },
    {
      "cell_type": "code",
      "metadata": {
        "id": "F4AqAWeYV4JR",
        "outputId": "37ab7ce5-79bd-4a63-f200-bb07f0194b6d",
        "colab": {
          "base_uri": "https://localhost:8080/"
        }
      },
      "source": [
        "#Resposta 2\n",
        "print(f\"Tamanho do dataframe: {df.shape}\")"
      ],
      "execution_count": 5,
      "outputs": [
        {
          "output_type": "stream",
          "text": [
            "Tamanho do dataframe: (768, 9)\n"
          ],
          "name": "stdout"
        }
      ]
    },
    {
      "cell_type": "code",
      "metadata": {
        "id": "N5v-R7b4nocx",
        "outputId": "2e8374d0-d822-45ac-a7ba-9ef820794bb3",
        "colab": {
          "base_uri": "https://localhost:8080/"
        }
      },
      "source": [
        "#Resposta 3\n",
        "df[iloc]\n",
        "for tipo in df.dtypes == 'float64':\n",
        "  tipo = df.dtypes\n",
        "print(tipo)"
      ],
      "execution_count": 6,
      "outputs": [
        {
          "output_type": "stream",
          "text": [
            "Pregnancies                   int64\n",
            "Glucose                       int64\n",
            "BloodPressure                 int64\n",
            "SkinThickness                 int64\n",
            "Insulin                       int64\n",
            "BMI                         float64\n",
            "DiabetesPedigreeFunction    float64\n",
            "Age                           int64\n",
            "Outcome                       int64\n",
            "dtype: object\n"
          ],
          "name": "stdout"
        }
      ]
    },
    {
      "cell_type": "code",
      "metadata": {
        "id": "24pJam0uWHHY",
        "outputId": "e9c9a609-aacf-46c7-e4cf-882784fd0a0d",
        "colab": {
          "base_uri": "https://localhost:8080/"
        }
      },
      "source": [
        "#Resposta 4\n",
        "df['Age'].mean()"
      ],
      "execution_count": null,
      "outputs": [
        {
          "output_type": "execute_result",
          "data": {
            "text/plain": [
              "33.240885416666664"
            ]
          },
          "metadata": {
            "tags": []
          },
          "execution_count": 17
        }
      ]
    },
    {
      "cell_type": "code",
      "metadata": {
        "id": "BxeJ8MoJlebc",
        "outputId": "81ac8872-8473-4880-a820-deb2fc84e215",
        "colab": {
          "base_uri": "https://localhost:8080/"
        }
      },
      "source": [
        "#Resposta 5\n",
        "print (\"Quantidade de valores iguais a 1:\", df['Outcome'].value_counts()[1])\n"
      ],
      "execution_count": 12,
      "outputs": [
        {
          "output_type": "stream",
          "text": [
            "Quantidade de valores iguais a 1: 268\n"
          ],
          "name": "stdout"
        }
      ]
    },
    {
      "cell_type": "code",
      "metadata": {
        "id": "I3ZZjZ2_ApwF"
      },
      "source": [
        "# Dividindo as colunas\n",
        "inputs = df.iloc[:, :-1].values # dados de entrada\n",
        "targets = df.iloc[:, 8].values # dados de entrada"
      ],
      "execution_count": 36,
      "outputs": []
    },
    {
      "cell_type": "code",
      "metadata": {
        "id": "wDrNJsjcJqzR"
      },
      "source": [
        "#Normalização dos dados\n",
        "from sklearn.preprocessing import MinMaxScaler\n",
        "normaliza = MinMaxScaler() #objeto para a normalização\n",
        "inputs_normalizados=normaliza.fit_transform(inputs)"
      ],
      "execution_count": 37,
      "outputs": []
    },
    {
      "cell_type": "code",
      "metadata": {
        "id": "5tbO7fPmFfv8"
      },
      "source": [
        "#Dividir dados entre treinamento e teste\n",
        "from sklearn.model_selection import train_test_split #importa a função\n",
        "input_train, input_test, target_train, target_test = train_test_split(inputs_normalizados, targets,\n",
        "test_size=0.30, random_state=42)"
      ],
      "execution_count": 38,
      "outputs": []
    },
    {
      "cell_type": "code",
      "metadata": {
        "id": "KkC_ZUooKri1",
        "outputId": "2b0d71aa-3ae9-413e-f284-3951923dd479",
        "colab": {
          "base_uri": "https://localhost:8080/"
        }
      },
      "source": [
        "# Resposta 6\n",
        "# Utilizando o método “train_test_split” como apresentado no enunciado, quantas \n",
        "# instâncias (linhas) foram selecionadas para oconjunto de dados de treinamento \n",
        "# do modelo?\n",
        "len(input_train)"
      ],
      "execution_count": 25,
      "outputs": [
        {
          "output_type": "execute_result",
          "data": {
            "text/plain": [
              "537"
            ]
          },
          "metadata": {
            "tags": []
          },
          "execution_count": 25
        }
      ]
    },
    {
      "cell_type": "markdown",
      "metadata": {
        "id": "nkvXDbIOPII1"
      },
      "source": [
        "# Usando o KNN para a resposta 7"
      ]
    },
    {
      "cell_type": "code",
      "metadata": {
        "id": "G64lFKbhLLdP",
        "outputId": "32b3b4f9-fca9-4993-b221-b9bcf2ddcebe",
        "colab": {
          "base_uri": "https://localhost:8080/"
        }
      },
      "source": [
        "# Após dividir as colunas do dataframe entre entrada e saída, aplicar a normalização \n",
        "# dos dados como apresentado no enunciado(MinMaxScaler()) e dividir esses dados entre\n",
        "# treinamento e teste, aplique o algoritmo KNN.\n",
        "# Qual é, aproximadamente, aacurácia do modelo?\n",
        "\n",
        "# Importando o classificador\n",
        "\n",
        "from sklearn.neighbors import KNeighborsClassifier\n",
        "\n",
        "clf_KNN = KNeighborsClassifier(n_neighbors=5) # 5 vizinhos\n",
        "clf_KNN.fit(input_train, target_train) # aplicando o algorítmo de classificação"
      ],
      "execution_count": 54,
      "outputs": [
        {
          "output_type": "execute_result",
          "data": {
            "text/plain": [
              "KNeighborsClassifier(algorithm='auto', leaf_size=30, metric='minkowski',\n",
              "                     metric_params=None, n_jobs=None, n_neighbors=5, p=2,\n",
              "                     weights='uniform')"
            ]
          },
          "metadata": {
            "tags": []
          },
          "execution_count": 54
        }
      ]
    },
    {
      "cell_type": "code",
      "metadata": {
        "id": "ZuUA3wn-MbG3"
      },
      "source": [
        "#Predição do modelo\n",
        "y_pred_KNN = clf_KNN.predict(input_test)"
      ],
      "execution_count": 55,
      "outputs": []
    },
    {
      "cell_type": "code",
      "metadata": {
        "id": "UHAmHYmHNIkA",
        "outputId": "121b6776-bcf9-4383-96b2-3097994a2230",
        "colab": {
          "base_uri": "https://localhost:8080/"
        }
      },
      "source": [
        "from sklearn.metrics import classification_report\n",
        "print (classification_report(target_test, y_pred_KNN))"
      ],
      "execution_count": 56,
      "outputs": [
        {
          "output_type": "stream",
          "text": [
            "              precision    recall  f1-score   support\n",
            "\n",
            "           0       0.74      0.78      0.76       151\n",
            "           1       0.54      0.49      0.51        80\n",
            "\n",
            "    accuracy                           0.68       231\n",
            "   macro avg       0.64      0.63      0.64       231\n",
            "weighted avg       0.67      0.68      0.68       231\n",
            "\n"
          ],
          "name": "stdout"
        }
      ]
    },
    {
      "cell_type": "markdown",
      "metadata": {
        "id": "parSDkr_OKQ9"
      },
      "source": [
        "### Resposta - Acurácia do modelo  = 0,68\n"
      ]
    },
    {
      "cell_type": "markdown",
      "metadata": {
        "id": "onxXFOZlPvwZ"
      },
      "source": [
        "# Usando o Arvore de Decisão para a resposta 8"
      ]
    },
    {
      "cell_type": "code",
      "metadata": {
        "id": "QCJ3i_rTOeCK",
        "outputId": "46dfa42b-4f6a-4f00-9981-9ae5eb1b167c",
        "colab": {
          "base_uri": "https://localhost:8080/"
        }
      },
      "source": [
        "# Após dividir as colunas do dataframe entre entrada e saída, aplicar a \n",
        "# normalização dos dados como apresentado no enunciado(MinMaxScaler()) e dividir \n",
        "# esses dados entre treinamento e teste, aplique o algoritmo Árvore de Decisão. \n",
        "# Qual é,aproximadamente, a acurácia do modelo?\n",
        "\n",
        "#Importando as funções do classificador de árvore de decisão \n",
        "\n",
        "from sklearn.tree import DecisionTreeClassifier\n",
        "clf_arvore = DecisionTreeClassifier(random_state=1)\n",
        "clf_arvore.fit(input_train, target_train)"
      ],
      "execution_count": 57,
      "outputs": [
        {
          "output_type": "execute_result",
          "data": {
            "text/plain": [
              "DecisionTreeClassifier(ccp_alpha=0.0, class_weight=None, criterion='gini',\n",
              "                       max_depth=None, max_features=None, max_leaf_nodes=None,\n",
              "                       min_impurity_decrease=0.0, min_impurity_split=None,\n",
              "                       min_samples_leaf=1, min_samples_split=2,\n",
              "                       min_weight_fraction_leaf=0.0, presort='deprecated',\n",
              "                       random_state=1, splitter='best')"
            ]
          },
          "metadata": {
            "tags": []
          },
          "execution_count": 57
        }
      ]
    },
    {
      "cell_type": "code",
      "metadata": {
        "id": "22PDtjj7QzFo"
      },
      "source": [
        "#Previsao dos dados\n",
        "y_pred_arvore = clf_arvore.predict(input_test)"
      ],
      "execution_count": 58,
      "outputs": []
    },
    {
      "cell_type": "code",
      "metadata": {
        "id": "2gvjzgxEQ6gY",
        "outputId": "d6bd6ef6-abca-4004-fe33-450885035a04",
        "colab": {
          "base_uri": "https://localhost:8080/"
        }
      },
      "source": [
        "from sklearn.metrics import accuracy_score\n",
        "acuracia = accuracy_score(target_test, y_pred_arvore)\n",
        "print('Acurácia da àrvore de Decisão: ',acuracia)"
      ],
      "execution_count": 59,
      "outputs": [
        {
          "output_type": "stream",
          "text": [
            "Acurácia da àrvore de Decisão:  0.696969696969697\n"
          ],
          "name": "stdout"
        }
      ]
    },
    {
      "cell_type": "code",
      "metadata": {
        "id": "Txcg_QLdSyfp",
        "outputId": "e8e10e43-7276-4557-da96-1fc254dc2690",
        "colab": {
          "base_uri": "https://localhost:8080/"
        }
      },
      "source": [
        "#contrução da matriz de confusão\n",
        "from sklearn.metrics import classification_report, confusion_matrix\n",
        "matriz_confusao = confusion_matrix(target_test, y_pred_arvore)\n",
        "print(matriz_confusao)"
      ],
      "execution_count": 60,
      "outputs": [
        {
          "output_type": "stream",
          "text": [
            "[[106  45]\n",
            " [ 25  55]]\n"
          ],
          "name": "stdout"
        }
      ]
    },
    {
      "cell_type": "code",
      "metadata": {
        "id": "UIhhNyf0S-6S",
        "outputId": "4181849a-96d1-4da4-e28c-ed6ad6a09ef8",
        "colab": {
          "base_uri": "https://localhost:8080/"
        }
      },
      "source": [
        "print(classification_report(target_test, y_pred_arvore))"
      ],
      "execution_count": 61,
      "outputs": [
        {
          "output_type": "stream",
          "text": [
            "              precision    recall  f1-score   support\n",
            "\n",
            "           0       0.81      0.70      0.75       151\n",
            "           1       0.55      0.69      0.61        80\n",
            "\n",
            "    accuracy                           0.70       231\n",
            "   macro avg       0.68      0.69      0.68       231\n",
            "weighted avg       0.72      0.70      0.70       231\n",
            "\n"
          ],
          "name": "stdout"
        }
      ]
    },
    {
      "cell_type": "markdown",
      "metadata": {
        "id": "XVeVpF8zSGWt"
      },
      "source": [
        "### Resposta - Acurácia do modelo  = 0,70"
      ]
    },
    {
      "cell_type": "markdown",
      "metadata": {
        "id": "cdUwI1swSXXB"
      },
      "source": [
        "# Usando o Random Forest para a resposta 9"
      ]
    },
    {
      "cell_type": "code",
      "metadata": {
        "id": "k879vt9USQUx"
      },
      "source": [
        "# Após dividir as colunas do dataframe entre entrada e saída, aplicar a \n",
        "# normalização dos dados como apresentado no enunciado(MinMaxScaler()) e dividir \n",
        "# esses dados entre treinamento e teste, aplique o algoritmo Floresta Randômica. \n",
        "# Qual é,aproximadamente, a acurácia do modelo?\n",
        "\n",
        "#Importando o classificador Random Forest\n",
        "\n",
        "from sklearn.ensemble import RandomForestClassifier\n",
        "\n",
        "clf_floresta = RandomForestClassifier(max_depth=10, random_state=1)\n",
        "clf_floresta.fit(input_train, target_train)\n",
        "\n",
        "y_pred_floresta = clf_floresta.predict(input_test)"
      ],
      "execution_count": 62,
      "outputs": []
    },
    {
      "cell_type": "code",
      "metadata": {
        "id": "9u2z1ePCWOsc",
        "outputId": "f02147eb-d70a-4f70-a0e0-85e25ea9673d",
        "colab": {
          "base_uri": "https://localhost:8080/"
        }
      },
      "source": [
        "print(confusion_matrix(target_test,y_pred_floresta))\n",
        "print(classification_report(target_test,y_pred_floresta))\n",
        "print(accuracy_score(target_test, y_pred_floresta))"
      ],
      "execution_count": 63,
      "outputs": [
        {
          "output_type": "stream",
          "text": [
            "[[121  30]\n",
            " [ 29  51]]\n",
            "              precision    recall  f1-score   support\n",
            "\n",
            "           0       0.81      0.80      0.80       151\n",
            "           1       0.63      0.64      0.63        80\n",
            "\n",
            "    accuracy                           0.74       231\n",
            "   macro avg       0.72      0.72      0.72       231\n",
            "weighted avg       0.75      0.74      0.74       231\n",
            "\n",
            "0.7445887445887446\n"
          ],
          "name": "stdout"
        }
      ]
    },
    {
      "cell_type": "markdown",
      "metadata": {
        "id": "KweR90xlXQRL"
      },
      "source": [
        "### Resposta - Acurácia do modelo  = 0,74"
      ]
    },
    {
      "cell_type": "markdown",
      "metadata": {
        "id": "pvmG8k0sXT1T"
      },
      "source": [
        "# Usando o SVM para a resposta 10"
      ]
    },
    {
      "cell_type": "code",
      "metadata": {
        "id": "u-AtTjRMXZeM"
      },
      "source": [
        "# Após dividir as colunas do dataframe entre entrada e saída, aplicar a \n",
        "# normalização dos dados como apresentado no enunciado(MinMaxScaler()) e dividir \n",
        "# os dados entre treinamento e teste, aplique o algoritmo SVM. \n",
        "# Qual é, aproximadamente, a acuráciado modelo?\n",
        "\n",
        "#Importando o classificador Suppor Vector Machine (SVM)\n",
        "\n",
        "from sklearn.svm import SVC\n",
        "\n",
        "clf_svm=SVC(gamma='auto',random_state=1)\n",
        "clf_svm.fit(input_train, target_train)\n",
        "\n",
        "y_pred_svm = clf_svm.predict(input_test)"
      ],
      "execution_count": 64,
      "outputs": []
    },
    {
      "cell_type": "code",
      "metadata": {
        "id": "Rdbp9NAhapSO",
        "outputId": "f1be6560-350f-4ce9-e9d7-b23ccdb73c17",
        "colab": {
          "base_uri": "https://localhost:8080/"
        }
      },
      "source": [
        "print(classification_report(target_test,y_pred_svm))\n",
        "print(accuracy_score(target_test, y_pred_svm))"
      ],
      "execution_count": 65,
      "outputs": [
        {
          "output_type": "stream",
          "text": [
            "              precision    recall  f1-score   support\n",
            "\n",
            "           0       0.78      0.90      0.84       151\n",
            "           1       0.74      0.53      0.61        80\n",
            "\n",
            "    accuracy                           0.77       231\n",
            "   macro avg       0.76      0.71      0.73       231\n",
            "weighted avg       0.77      0.77      0.76       231\n",
            "\n",
            "0.7705627705627706\n"
          ],
          "name": "stdout"
        }
      ]
    },
    {
      "cell_type": "markdown",
      "metadata": {
        "id": "8u2Ah86ubPQ0"
      },
      "source": [
        "### Resposta - Acurácia do modelo  = 0,77"
      ]
    },
    {
      "cell_type": "markdown",
      "metadata": {
        "id": "SKkrb51tbOTU"
      },
      "source": [
        "# Usando o MLP para a resposta 11"
      ]
    },
    {
      "cell_type": "code",
      "metadata": {
        "id": "u_R1oJeVbX3t"
      },
      "source": [
        "# Após dividir as colunas do dataframe entre entrada e saída, aplicar a \n",
        "# normalização dos dados como apresentado no enunciado (MinMaxScaler()) e dividir \n",
        "# os dados entre treinamento e teste, aplique o algoritmo MLP. \n",
        "# Qual é, aproximadamente, a acurácia do modelo?\n",
        "\n",
        "#Importando o classificador MLP (redes Neurais)\n",
        "\n",
        "from sklearn.neural_network import MLPClassifier\n",
        "clf_mlp = MLPClassifier(solver='lbfgs', alpha=1e-5, hidden_layer_sizes=(5, 5), random_state=1)\n",
        "clf_mlp.fit(input_train, target_train)\n",
        "\n",
        "y_pred_mlp = clf_mlp.predict(input_test)"
      ],
      "execution_count": 66,
      "outputs": []
    },
    {
      "cell_type": "code",
      "metadata": {
        "id": "gl-UiiIZck39",
        "outputId": "5424612b-a57f-4954-d4f1-bed1ebc0acd9",
        "colab": {
          "base_uri": "https://localhost:8080/"
        }
      },
      "source": [
        "print(classification_report(target_test,y_pred_mlp))\n",
        "print(accuracy_score(target_test, y_pred_mlp))"
      ],
      "execution_count": 67,
      "outputs": [
        {
          "output_type": "stream",
          "text": [
            "              precision    recall  f1-score   support\n",
            "\n",
            "           0       0.80      0.78      0.79       151\n",
            "           1       0.61      0.64      0.62        80\n",
            "\n",
            "    accuracy                           0.73       231\n",
            "   macro avg       0.70      0.71      0.71       231\n",
            "weighted avg       0.73      0.73      0.73       231\n",
            "\n",
            "0.7316017316017316\n"
          ],
          "name": "stdout"
        }
      ]
    },
    {
      "cell_type": "markdown",
      "metadata": {
        "id": "ST8k5mkLc09S"
      },
      "source": [
        "### Resposta - Acurácia do modelo  = 0,73"
      ]
    },
    {
      "cell_type": "markdown",
      "metadata": {
        "id": "S2jCi36fc-Fo"
      },
      "source": [
        "# 12 - Dentre todos os modelo implementados seguindo o enunciado deste trabalho prático, qual foi aquele que alcançou maioracurácia?\n",
        "\n",
        "### Resposta: SVM"
      ]
    },
    {
      "cell_type": "markdown",
      "metadata": {
        "id": "K_9xIpXadhHk"
      },
      "source": [
        "# 13 - Qual dos modelos implementados neste trabalho prático é classificado como um modelo de aprendizado de máquina não-supervisionado?\n",
        "\n",
        "### Resposta: Nenhum"
      ]
    },
    {
      "cell_type": "markdown",
      "metadata": {
        "id": "Yd2w2Wz7eHim"
      },
      "source": [
        "# Código abaixo para responder as perguntas 14 e 15"
      ]
    },
    {
      "cell_type": "code",
      "metadata": {
        "id": "b2CxOwh1c3mM"
      },
      "source": [
        "#importando bibliotecas\n",
        "import threading\n",
        "import time\n",
        "from random import randint"
      ],
      "execution_count": null,
      "outputs": []
    },
    {
      "cell_type": "code",
      "metadata": {
        "id": "4L-H71AteEU-"
      },
      "source": [
        "def funcao_1(num):\n",
        "  n = num\n",
        "  while n > 0:\n",
        "    n-= 1\n",
        "    print(\"n_1: {}\".format(n))\n",
        "    time.sleep(randint(0, 2))\n",
        "\n",
        "def funcao_2(num):\n",
        "  n = num\n",
        "  while n < 100:\n",
        "    n += 1\n",
        "    print(\"n_2: {}\".format(n))\n",
        "    time.sleep(randint(0, 2))\n",
        "\n",
        "if __name__ == \"main\":\n",
        "  \n",
        "  t1 = threading.Thread(target=funcao_1, args=(100,))\n",
        "  t2 = threading.Thread(target=funcao_2, args=(0,))\n",
        "\n",
        "  t1.start()\n",
        "  t2.start()\n",
        "\n",
        "  t1.join()\n",
        "  t2.join()\n",
        "\n",
        "  print(\"Fim!\")"
      ],
      "execution_count": null,
      "outputs": []
    }
  ]
}