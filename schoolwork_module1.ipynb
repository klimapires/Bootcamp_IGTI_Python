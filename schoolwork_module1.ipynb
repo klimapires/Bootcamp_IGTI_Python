{
  "nbformat": 4,
  "nbformat_minor": 0,
  "metadata": {
    "colab": {
      "name": "schoolwork_module1.ipynb",
      "provenance": [],
      "authorship_tag": "ABX9TyN2hiG4aX4jkSbI068oEYe4"
    },
    "kernelspec": {
      "name": "python3",
      "display_name": "Python 3"
    }
  },
  "cells": [
    {
      "cell_type": "markdown",
      "metadata": {
        "id": "w7MXYiubWOJU"
      },
      "source": [
        "**Código paras as respostas 1 à 6**"
      ]
    },
    {
      "cell_type": "code",
      "metadata": {
        "id": "4xPnBuiMw6Ie",
        "outputId": "b7e0ed1c-0d78-42d8-8b9b-a3a40e9096ef",
        "colab": {
          "base_uri": "https://localhost:8080/",
          "height": 68
        }
      },
      "source": [
        "idade = int(input(\"entre com sua idade:\"))\n",
        "nova_idade = idade + 1\n",
        "print(\"No próximo ano você terá: %d anos\"%(nova_idade))\n",
        "print(\"No próximo ano você terá: {} anos\".format(nova_idade))"
      ],
      "execution_count": null,
      "outputs": [
        {
          "output_type": "stream",
          "text": [
            "entre com sua idade:40\n",
            "No próximo ano você terá: 41 anos\n",
            "No próximo ano você terá: 41 anos\n"
          ],
          "name": "stdout"
        }
      ]
    },
    {
      "cell_type": "markdown",
      "metadata": {
        "id": "HVTfCPxwWUqE"
      },
      "source": [
        "**Código para a resposta 7**"
      ]
    },
    {
      "cell_type": "code",
      "metadata": {
        "id": "ZozLSVWaWIv-",
        "outputId": "92a60716-e493-47c9-d669-fd9a41b4e690",
        "colab": {
          "base_uri": "https://localhost:8080/",
          "height": 68
        }
      },
      "source": [
        "lado_a = 35\n",
        "lado_b = 14.33333\n",
        "area_do_retangulo = (lado_a) * (lado_b)\n",
        "print('O retângulo de lado A = %d e lado B = %.2f é %.3f '%(lado_a, lado_b, area_do_retangulo))\n",
        "print('O retângulo de lado A = {} e lado B = {} é {} '.format(lado_a, lado_b, area_do_retangulo))\n",
        "type(area_do_retangulo)\n",
        "print('O retângulo de lado A = %d e lado B = %.2d é %.3f '%(lado_a, lado_b, area_do_retangulo))"
      ],
      "execution_count": null,
      "outputs": [
        {
          "output_type": "stream",
          "text": [
            "O retângulo de lado A = 35 e lado B = 14.33 é 501.667 \n",
            "O retângulo de lado A = 35 e lado B = 14.33333 é 501.66655000000003 \n",
            "O retângulo de lado A = 35 e lado B = 14 é 501.667 \n"
          ],
          "name": "stdout"
        }
      ]
    },
    {
      "cell_type": "markdown",
      "metadata": {
        "id": "Ke86WIZqZDmF"
      },
      "source": [
        "**Código para as respostas 8 à 9**"
      ]
    },
    {
      "cell_type": "code",
      "metadata": {
        "id": "vI7mC83_ZIzY",
        "outputId": "deb9d01b-bb5d-42f1-fc31-7e7d1fe67394",
        "colab": {
          "base_uri": "https://localhost:8080/",
          "height": 68
        }
      },
      "source": [
        "lista_1 = [1,2,'IGTI']\n",
        "lista_2 = [2,3,\"Bootcamp\"]\n",
        "lista_3=lista_1 + lista_2\n",
        "print (lista_3)\n",
        "print (lista_3[2])\n",
        "lista_3.append(8)\n",
        "print (lista_3)"
      ],
      "execution_count": null,
      "outputs": [
        {
          "output_type": "stream",
          "text": [
            "[1, 2, 'IGTI', 2, 3, 'Bootcamp']\n",
            "IGTI\n",
            "[1, 2, 'IGTI', 2, 3, 'Bootcamp', 8]\n"
          ],
          "name": "stdout"
        }
      ]
    },
    {
      "cell_type": "markdown",
      "metadata": {
        "id": "nGo1Rmipa9H9"
      },
      "source": [
        "**Código para as respostas 10 à 11**"
      ]
    },
    {
      "cell_type": "code",
      "metadata": {
        "id": "D3Ka7kXHbDf7",
        "outputId": "3fb92492-21ee-4f6e-8d3b-5ebb2c2f8e71",
        "colab": {
          "base_uri": "https://localhost:8080/",
          "height": 102
        }
      },
      "source": [
        "chute = int(input('ENTRE COM UM VALOR INTEIRO DE 0 A 30: '))\n",
        "adivinhacao=[5,6,10,14,16,20,30]\n",
        "if chute in adivinhacao:\n",
        "  print('Você acertou um dos números que eu estava pensando.')\n",
        "\n",
        "  if chute > 15:\n",
        "    print('Esse número é maior do que 20.')\n",
        "\n",
        "  if chute < 20:\n",
        "    print('Esse número é menor do que 20.')\n",
        "  print('Você é fera.')\n",
        "else:\n",
        "  print('Que pena, você errou. Pode tentar outra vez.')\n",
        "print('Obrigado por participar')"
      ],
      "execution_count": null,
      "outputs": [
        {
          "output_type": "stream",
          "text": [
            "ENTRE COM UM VALOR INTEIRO DE 0 A 30: 30\n",
            "Você acertou um dos números que eu estava pensando.\n",
            "Esse número é maior do que 20.\n",
            "Você é fera.\n",
            "Obrigado por participar\n"
          ],
          "name": "stdout"
        }
      ]
    },
    {
      "cell_type": "markdown",
      "metadata": {
        "id": "Q4pAZPsccYuF"
      },
      "source": [
        "**Código para as respostas 12 à 13**"
      ]
    },
    {
      "cell_type": "code",
      "metadata": {
        "id": "1-icifL6cit8",
        "outputId": "5e89a086-2508-4bf0-d4ff-ac5fb9a67ad8",
        "colab": {
          "base_uri": "https://localhost:8080/",
          "height": 85
        }
      },
      "source": [
        "frutas = [\"maça\", \"banana\", \"uva\", \"goiaba\"]\n",
        "for x in frutas:\n",
        "  if x == \"uva\":\n",
        "    print('Fim do laço')\n",
        "    break\n",
        "    #frutas.append(\"melão\")\n",
        "  print(x)\n",
        "print(frutas)"
      ],
      "execution_count": null,
      "outputs": [
        {
          "output_type": "stream",
          "text": [
            "maça\n",
            "banana\n",
            "Fim do laço\n",
            "['maça', 'banana', 'uva', 'goiaba']\n"
          ],
          "name": "stdout"
        }
      ]
    },
    {
      "cell_type": "markdown",
      "metadata": {
        "id": "G8klg_uWnrwA"
      },
      "source": [
        "**Código para as respostas 14 à 15**"
      ]
    },
    {
      "cell_type": "code",
      "metadata": {
        "id": "s0R7CTvQnuVX",
        "outputId": "8b7907ea-91fe-48b2-e1d7-0f0109217989",
        "colab": {
          "base_uri": "https://localhost:8080/",
          "height": 102
        }
      },
      "source": [
        "n = 5\n",
        "while n > 0:\n",
        "  n -= 1\n",
        "  print(n)"
      ],
      "execution_count": null,
      "outputs": [
        {
          "output_type": "stream",
          "text": [
            "4\n",
            "3\n",
            "2\n",
            "1\n",
            "0\n"
          ],
          "name": "stdout"
        }
      ]
    }
  ]
}