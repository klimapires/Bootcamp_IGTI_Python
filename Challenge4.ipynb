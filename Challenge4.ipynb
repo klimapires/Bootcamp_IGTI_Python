{
  "nbformat": 4,
  "nbformat_minor": 0,
  "metadata": {
    "colab": {
      "name": "Challenge4.ipynb",
      "provenance": [],
      "toc_visible": true,
      "authorship_tag": "ABX9TyM+kon8L7FfkoHt0uD6yVLU"
    },
    "kernelspec": {
      "name": "python3",
      "display_name": "Python 3"
    }
  },
  "cells": [
    {
      "cell_type": "markdown",
      "metadata": {
        "id": "EJyFMbDH_t7D"
      },
      "source": [
        "# **Desafio 4**\n"
      ]
    },
    {
      "cell_type": "markdown",
      "metadata": {
        "id": "Zc9s7iB4aMSj"
      },
      "source": [
        "### **Objetivos**\n",
        "Exercitar os seguintes conceitos trabalhados no Módulo:\n",
        "\n",
        "✓ Scikit-Learning.\n",
        "\n",
        "✓ Programação concorrente.\n",
        "\n",
        "✓ Programação reativa.\n",
        "\n",
        "✓ Pygame"
      ]
    },
    {
      "cell_type": "markdown",
      "metadata": {
        "id": "oDdr5z6zaNNB"
      },
      "source": [
        "### **Enunciado**\n",
        "\n",
        "Neste desafio são utilizados todos os módulos apresentados durante o módulo 4 deste\n",
        "Bootcamp. Módulos como o scikit-learn, pandas, threading, rx e pygame são empregados\n",
        "para construir aplicações que utilizem conceitos mais avançados da linguagem Python.\n",
        "Desse modo, é possível perceber a vasta aplicabilidade desta linguagem para se resolver\n",
        "diversos problemas de diferentes complexidades através da computação."
      ]
    },
    {
      "cell_type": "markdown",
      "metadata": {
        "id": "ijUbGVb3aNjB"
      },
      "source": [
        "###**Nota: O dataset utilizado possui as seguintes colunas:**\n",
        "\n",
        "* Sex - gênero do paciente ->Homem = 1, Mulher =0\n",
        "* Age - Idade do paciente\n",
        "* Diabetes - Possui diabetes? 0 = Não, 1 = Sim\n",
        "* Anaemia - Possui anemia? 0 = Não, 1 = Sim\n",
        "* High_blood_pressure - Possui pressão alta? 0 = Não, 1 = Sim\n",
        "* Smoking - É fumante? 0 = Não, 1 = Sim\n",
        "* DEATH_EVENT - evento de morte? 0 = Não, 1 = Sim"
      ]
    },
    {
      "cell_type": "code",
      "metadata": {
        "id": "q_hx1c_V-9zL"
      },
      "source": [
        "#importando as bibliotecas\n",
        "import pandas as pd\n",
        "import matplotlib.pyplot as plt\n",
        "fonte = \"https://github.com/klimapires/Bootcamp_IGTI_Python/blob/main/doencas_coracao.csv?raw=true\""
      ],
      "execution_count": 1,
      "outputs": []
    },
    {
      "cell_type": "code",
      "metadata": {
        "id": "KNPc7RWG_YAL",
        "colab": {
          "base_uri": "https://localhost:8080/",
          "height": 224
        },
        "outputId": "46412641-7742-45ca-cea0-91cbee0fb8d6"
      },
      "source": [
        "#leitura do dataset\n",
        "df = pd.read_csv(fonte)\n",
        "df.head()"
      ],
      "execution_count": 2,
      "outputs": [
        {
          "output_type": "execute_result",
          "data": {
            "text/html": [
              "<div>\n",
              "<style scoped>\n",
              "    .dataframe tbody tr th:only-of-type {\n",
              "        vertical-align: middle;\n",
              "    }\n",
              "\n",
              "    .dataframe tbody tr th {\n",
              "        vertical-align: top;\n",
              "    }\n",
              "\n",
              "    .dataframe thead th {\n",
              "        text-align: right;\n",
              "    }\n",
              "</style>\n",
              "<table border=\"1\" class=\"dataframe\">\n",
              "  <thead>\n",
              "    <tr style=\"text-align: right;\">\n",
              "      <th></th>\n",
              "      <th>age</th>\n",
              "      <th>anaemia</th>\n",
              "      <th>creatinine_phosphokinase</th>\n",
              "      <th>diabetes</th>\n",
              "      <th>ejection_fraction</th>\n",
              "      <th>high_blood_pressure</th>\n",
              "      <th>platelets</th>\n",
              "      <th>serum_creatinine</th>\n",
              "      <th>serum_sodium</th>\n",
              "      <th>sex</th>\n",
              "      <th>smoking</th>\n",
              "      <th>time</th>\n",
              "      <th>DEATH_EVENT</th>\n",
              "    </tr>\n",
              "  </thead>\n",
              "  <tbody>\n",
              "    <tr>\n",
              "      <th>0</th>\n",
              "      <td>75.0</td>\n",
              "      <td>0</td>\n",
              "      <td>582</td>\n",
              "      <td>0</td>\n",
              "      <td>20</td>\n",
              "      <td>1</td>\n",
              "      <td>265000.00</td>\n",
              "      <td>1.9</td>\n",
              "      <td>130</td>\n",
              "      <td>1</td>\n",
              "      <td>0</td>\n",
              "      <td>4</td>\n",
              "      <td>1</td>\n",
              "    </tr>\n",
              "    <tr>\n",
              "      <th>1</th>\n",
              "      <td>55.0</td>\n",
              "      <td>0</td>\n",
              "      <td>7861</td>\n",
              "      <td>0</td>\n",
              "      <td>38</td>\n",
              "      <td>0</td>\n",
              "      <td>263358.03</td>\n",
              "      <td>1.1</td>\n",
              "      <td>136</td>\n",
              "      <td>1</td>\n",
              "      <td>0</td>\n",
              "      <td>6</td>\n",
              "      <td>1</td>\n",
              "    </tr>\n",
              "    <tr>\n",
              "      <th>2</th>\n",
              "      <td>65.0</td>\n",
              "      <td>0</td>\n",
              "      <td>146</td>\n",
              "      <td>0</td>\n",
              "      <td>20</td>\n",
              "      <td>0</td>\n",
              "      <td>162000.00</td>\n",
              "      <td>1.3</td>\n",
              "      <td>129</td>\n",
              "      <td>1</td>\n",
              "      <td>1</td>\n",
              "      <td>7</td>\n",
              "      <td>1</td>\n",
              "    </tr>\n",
              "    <tr>\n",
              "      <th>3</th>\n",
              "      <td>50.0</td>\n",
              "      <td>1</td>\n",
              "      <td>111</td>\n",
              "      <td>0</td>\n",
              "      <td>20</td>\n",
              "      <td>0</td>\n",
              "      <td>210000.00</td>\n",
              "      <td>1.9</td>\n",
              "      <td>137</td>\n",
              "      <td>1</td>\n",
              "      <td>0</td>\n",
              "      <td>7</td>\n",
              "      <td>1</td>\n",
              "    </tr>\n",
              "    <tr>\n",
              "      <th>4</th>\n",
              "      <td>65.0</td>\n",
              "      <td>1</td>\n",
              "      <td>160</td>\n",
              "      <td>1</td>\n",
              "      <td>20</td>\n",
              "      <td>0</td>\n",
              "      <td>327000.00</td>\n",
              "      <td>2.7</td>\n",
              "      <td>116</td>\n",
              "      <td>0</td>\n",
              "      <td>0</td>\n",
              "      <td>8</td>\n",
              "      <td>1</td>\n",
              "    </tr>\n",
              "  </tbody>\n",
              "</table>\n",
              "</div>"
            ],
            "text/plain": [
              "    age  anaemia  creatinine_phosphokinase  ...  smoking  time  DEATH_EVENT\n",
              "0  75.0        0                       582  ...        0     4            1\n",
              "1  55.0        0                      7861  ...        0     6            1\n",
              "2  65.0        0                       146  ...        1     7            1\n",
              "3  50.0        1                       111  ...        0     7            1\n",
              "4  65.0        1                       160  ...        0     8            1\n",
              "\n",
              "[5 rows x 13 columns]"
            ]
          },
          "metadata": {
            "tags": []
          },
          "execution_count": 2
        }
      ]
    },
    {
      "cell_type": "markdown",
      "metadata": {
        "id": "T3s9H4aJYDZD"
      },
      "source": [
        "# **Análise de dados**"
      ]
    },
    {
      "cell_type": "markdown",
      "metadata": {
        "id": "cmvekgYlB34j"
      },
      "source": [
        "###**Pergunta 1**\n",
        "\n",
        "Sobre a quantidade de instâncias e de características presentes no\n",
        "dataset, é CORRETO afirmar:"
      ]
    },
    {
      "cell_type": "code",
      "metadata": {
        "id": "brz_gkx4ANyW",
        "colab": {
          "base_uri": "https://localhost:8080/"
        },
        "outputId": "fa0144d2-0d90-424e-a109-8af6cc72a1e7"
      },
      "source": [
        "print(f\"Tamanho do dataframe: {df.shape}\")"
      ],
      "execution_count": 3,
      "outputs": [
        {
          "output_type": "stream",
          "text": [
            "Tamanho do dataframe: (299, 13)\n"
          ],
          "name": "stdout"
        }
      ]
    },
    {
      "cell_type": "markdown",
      "metadata": {
        "id": "HVZ3RizRCLqc"
      },
      "source": [
        "### **Pergunta 2**\n",
        "\n",
        "Quantos tipos de dados diferentes existem no dataset? Considere apenas a carga utilizando o módulo pandas."
      ]
    },
    {
      "cell_type": "code",
      "metadata": {
        "id": "JcZd15W2CLS_",
        "colab": {
          "base_uri": "https://localhost:8080/"
        },
        "outputId": "c4bd7be2-3559-4317-abc7-513e71342dbc"
      },
      "source": [
        "df.info()"
      ],
      "execution_count": null,
      "outputs": [
        {
          "output_type": "stream",
          "text": [
            "<class 'pandas.core.frame.DataFrame'>\n",
            "RangeIndex: 299 entries, 0 to 298\n",
            "Data columns (total 13 columns):\n",
            " #   Column                    Non-Null Count  Dtype  \n",
            "---  ------                    --------------  -----  \n",
            " 0   age                       299 non-null    float64\n",
            " 1   anaemia                   299 non-null    int64  \n",
            " 2   creatinine_phosphokinase  299 non-null    int64  \n",
            " 3   diabetes                  299 non-null    int64  \n",
            " 4   ejection_fraction         299 non-null    int64  \n",
            " 5   high_blood_pressure       299 non-null    int64  \n",
            " 6   platelets                 299 non-null    float64\n",
            " 7   serum_creatinine          299 non-null    float64\n",
            " 8   serum_sodium              299 non-null    int64  \n",
            " 9   sex                       299 non-null    int64  \n",
            " 10  smoking                   299 non-null    int64  \n",
            " 11  time                      299 non-null    int64  \n",
            " 12  DEATH_EVENT               299 non-null    int64  \n",
            "dtypes: float64(3), int64(10)\n",
            "memory usage: 30.5 KB\n"
          ],
          "name": "stdout"
        }
      ]
    },
    {
      "cell_type": "markdown",
      "metadata": {
        "id": "9XSA9wmVCZJT"
      },
      "source": [
        "### **Pergunta 3**\n",
        "\n",
        "Qual era a idade (age) média dos pacientes que faleceram (DEATH_EVENT=1)?"
      ]
    },
    {
      "cell_type": "code",
      "metadata": {
        "id": "d_dRAC7DE4bx",
        "colab": {
          "base_uri": "https://localhost:8080/"
        },
        "outputId": "883319aa-aa54-4e37-91f6-e40e59fa24d9"
      },
      "source": [
        "media_pacientes = df.groupby('DEATH_EVENT')['age'].mean()\n",
        "print(media_pacientes)"
      ],
      "execution_count": null,
      "outputs": [
        {
          "output_type": "stream",
          "text": [
            "DEATH_EVENT\n",
            "0    58.761906\n",
            "1    65.215281\n",
            "Name: age, dtype: float64\n"
          ],
          "name": "stdout"
        }
      ]
    },
    {
      "cell_type": "markdown",
      "metadata": {
        "id": "nvxgKQw7KMN1"
      },
      "source": [
        "### **Pergunta** 4 (Anulada)\n",
        "\n",
        "Dentre os pacientes que faleceram (DEATH_EVENT=1), quantos são do sexo feminino (sex=0)?\n"
      ]
    },
    {
      "cell_type": "code",
      "metadata": {
        "id": "NY5eJx6xKoXO",
        "colab": {
          "base_uri": "https://localhost:8080/"
        },
        "outputId": "6792ec92-f56b-4fc2-9e9c-85dde10e5191"
      },
      "source": [
        "pacientes_femininos = df[df['sex'] == 0]\n",
        "pacientes_femininos_death = pacientes_femininos[pacientes_femininos['DEATH_EVENT'] == 1]\n",
        "print(\"Pacientes do sexo feminino (sex=0)\", pacientes_femininos_death.loc[:,['sex']].count())"
      ],
      "execution_count": null,
      "outputs": [
        {
          "output_type": "stream",
          "text": [
            "Pacientes do sexo feminino (sex=0) sex    34\n",
            "dtype: int64\n"
          ],
          "name": "stdout"
        }
      ]
    },
    {
      "cell_type": "markdown",
      "metadata": {
        "id": "orI_evyhHz-N"
      },
      "source": [
        "# **Dividindo o dataframe para análise de Machine Learning.**"
      ]
    },
    {
      "cell_type": "code",
      "metadata": {
        "id": "dNzyzBD3H_1h"
      },
      "source": [
        "inputs = df.iloc[:, :-1].values #Entradas\n",
        "targets = df.iloc[:, 12].values #Saídas"
      ],
      "execution_count": 7,
      "outputs": []
    },
    {
      "cell_type": "code",
      "metadata": {
        "id": "ldSKUcWzIbvk"
      },
      "source": [
        "from sklearn.preprocessing import MinMaxScaler\n",
        "normalize = MinMaxScaler()\n",
        "inputs_normalized=normalize.fit_transform(inputs)"
      ],
      "execution_count": 8,
      "outputs": []
    },
    {
      "cell_type": "code",
      "metadata": {
        "colab": {
          "base_uri": "https://localhost:8080/"
        },
        "id": "aF9wn9ykdkzU",
        "outputId": "68c73e52-2ca9-46d0-c4f0-cd991f6ba430"
      },
      "source": [
        "print(inputs_normalized)"
      ],
      "execution_count": 12,
      "outputs": [
        {
          "output_type": "stream",
          "text": [
            "[[0.63636364 0.         0.07131921 ... 1.         0.         0.        ]\n",
            " [0.27272727 0.         1.         ... 1.         0.         0.00711744]\n",
            " [0.45454545 0.         0.01569278 ... 1.         1.         0.01067616]\n",
            " ...\n",
            " [0.09090909 0.         0.25988773 ... 0.         0.         0.97508897]\n",
            " [0.09090909 0.         0.30492473 ... 1.         1.         0.98220641]\n",
            " [0.18181818 0.         0.02207196 ... 1.         1.         1.        ]]\n"
          ],
          "name": "stdout"
        }
      ]
    },
    {
      "cell_type": "code",
      "metadata": {
        "id": "RKdDwPFzI6k1",
        "colab": {
          "base_uri": "https://localhost:8080/"
        },
        "outputId": "9a6a6ff8-6005-4b5a-c348-bab0d225cf58"
      },
      "source": [
        "#Dividindo os dados de treinamento e testes\n",
        "from sklearn.model_selection import train_test_split\n",
        "input_train, input_test, target_train, target_test = train_test_split(\n",
        "    inputs_normalized, targets, test_size=0.30,random_state=42)\n",
        "print(\"Quantidade de instâncias para o treinamento:\", len(input_train))"
      ],
      "execution_count": null,
      "outputs": [
        {
          "output_type": "stream",
          "text": [
            "Quantidade de instâncias para o treinamento: 209\n"
          ],
          "name": "stdout"
        }
      ]
    },
    {
      "cell_type": "markdown",
      "metadata": {
        "id": "ylTiJ_NF2wx3"
      },
      "source": [
        "# **Aplicando Modelos de ML**"
      ]
    },
    {
      "cell_type": "markdown",
      "metadata": {
        "id": "cB05IvTn3sUz"
      },
      "source": [
        "### **KNN - K-Nearest Neighbors**"
      ]
    },
    {
      "cell_type": "code",
      "metadata": {
        "id": "PY45ugFHK3XK"
      },
      "source": [
        "#importando o Classificador e instânciando \n",
        "from sklearn.neighbors import KNeighborsClassifier\n",
        "clf_KNN = KNeighborsClassifier(n_neighbors=5)"
      ],
      "execution_count": null,
      "outputs": []
    },
    {
      "cell_type": "code",
      "metadata": {
        "id": "Snq95EjArkGg",
        "colab": {
          "base_uri": "https://localhost:8080/"
        },
        "outputId": "2938cf07-027e-449b-dfed-bc4f00816447"
      },
      "source": [
        "#Aplicando o treinamento\n",
        "clf_KNN.fit(input_train, target_train)"
      ],
      "execution_count": null,
      "outputs": [
        {
          "output_type": "execute_result",
          "data": {
            "text/plain": [
              "KNeighborsClassifier(algorithm='auto', leaf_size=30, metric='minkowski',\n",
              "                     metric_params=None, n_jobs=None, n_neighbors=5, p=2,\n",
              "                     weights='uniform')"
            ]
          },
          "metadata": {
            "tags": []
          },
          "execution_count": 36
        }
      ]
    },
    {
      "cell_type": "code",
      "metadata": {
        "id": "8n__sJq7sfTW"
      },
      "source": [
        "#Realizando a predição do modelo\n",
        "y_pred = clf_KNN.predict(input_test)"
      ],
      "execution_count": null,
      "outputs": []
    },
    {
      "cell_type": "code",
      "metadata": {
        "id": "9VxuAcrJsy4V",
        "colab": {
          "base_uri": "https://localhost:8080/"
        },
        "outputId": "075a6e90-679c-408e-914b-a74613d85312"
      },
      "source": [
        "#Verificando a acurácia do modelo\n",
        "from sklearn.metrics import accuracy_score\n",
        "accuracy = accuracy_score(target_test, y_pred)\n",
        "print ('Acurácia do modelo KNN: %1.6f' %(accuracy))"
      ],
      "execution_count": null,
      "outputs": [
        {
          "output_type": "stream",
          "text": [
            "Acurácia do modelo KNN: 0.611111\n"
          ],
          "name": "stdout"
        }
      ]
    },
    {
      "cell_type": "markdown",
      "metadata": {
        "id": "Ahp0M7IF3CdS"
      },
      "source": [
        "### **Decision Tree**"
      ]
    },
    {
      "cell_type": "code",
      "metadata": {
        "id": "x8dHuVyz2b6U"
      },
      "source": [
        "from sklearn.tree import DecisionTreeClassifier\n",
        "clf_arvore = DecisionTreeClassifier(random_state=1)"
      ],
      "execution_count": null,
      "outputs": []
    },
    {
      "cell_type": "code",
      "metadata": {
        "id": "l9t1b_E_3m5k",
        "colab": {
          "base_uri": "https://localhost:8080/"
        },
        "outputId": "567cdb5a-aca9-4b66-88be-5042c58070c7"
      },
      "source": [
        "clf_arvore.fit(input_train, target_train)"
      ],
      "execution_count": null,
      "outputs": [
        {
          "output_type": "execute_result",
          "data": {
            "text/plain": [
              "DecisionTreeClassifier(ccp_alpha=0.0, class_weight=None, criterion='gini',\n",
              "                       max_depth=None, max_features=None, max_leaf_nodes=None,\n",
              "                       min_impurity_decrease=0.0, min_impurity_split=None,\n",
              "                       min_samples_leaf=1, min_samples_split=2,\n",
              "                       min_weight_fraction_leaf=0.0, presort='deprecated',\n",
              "                       random_state=1, splitter='best')"
            ]
          },
          "metadata": {
            "tags": []
          },
          "execution_count": 40
        }
      ]
    },
    {
      "cell_type": "code",
      "metadata": {
        "id": "BU8eOyfB4CBK"
      },
      "source": [
        "y_pred = clf_arvore.predict(input_test)"
      ],
      "execution_count": null,
      "outputs": []
    },
    {
      "cell_type": "code",
      "metadata": {
        "id": "tEoN_lYI4Rva",
        "colab": {
          "base_uri": "https://localhost:8080/"
        },
        "outputId": "95b3d70f-d3ca-4ccf-f275-77bf663ea858"
      },
      "source": [
        "#Verificando a acurácia do modelo\n",
        "accuracy = accuracy_score(target_test, y_pred)\n",
        "print ('Acurácia do modelo Decision Tree: %1.6f' %(accuracy))"
      ],
      "execution_count": null,
      "outputs": [
        {
          "output_type": "stream",
          "text": [
            "Acurácia do modelo Decision Tree: 0.666667\n"
          ],
          "name": "stdout"
        }
      ]
    },
    {
      "cell_type": "markdown",
      "metadata": {
        "id": "toaQjO2w3Guq"
      },
      "source": [
        "### **MLP - Multilayer Perceptron**"
      ]
    },
    {
      "cell_type": "code",
      "metadata": {
        "id": "N8NXOYL23XTr"
      },
      "source": [
        "from sklearn.neural_network import MLPClassifier\n",
        "clf_mlp = MLPClassifier(solver='lbfgs', alpha=1e-5, hidden_layer_sizes=(5, 10), random_state=1)"
      ],
      "execution_count": null,
      "outputs": []
    },
    {
      "cell_type": "code",
      "metadata": {
        "id": "D1Os60YP5HRO",
        "colab": {
          "base_uri": "https://localhost:8080/"
        },
        "outputId": "1d377f9c-975b-4017-aef7-4a61d5133b89"
      },
      "source": [
        "clf_mlp.fit(input_train, target_train)"
      ],
      "execution_count": null,
      "outputs": [
        {
          "output_type": "execute_result",
          "data": {
            "text/plain": [
              "MLPClassifier(activation='relu', alpha=1e-05, batch_size='auto', beta_1=0.9,\n",
              "              beta_2=0.999, early_stopping=False, epsilon=1e-08,\n",
              "              hidden_layer_sizes=(5, 10), learning_rate='constant',\n",
              "              learning_rate_init=0.001, max_fun=15000, max_iter=200,\n",
              "              momentum=0.9, n_iter_no_change=10, nesterovs_momentum=True,\n",
              "              power_t=0.5, random_state=1, shuffle=True, solver='lbfgs',\n",
              "              tol=0.0001, validation_fraction=0.1, verbose=False,\n",
              "              warm_start=False)"
            ]
          },
          "metadata": {
            "tags": []
          },
          "execution_count": 44
        }
      ]
    },
    {
      "cell_type": "code",
      "metadata": {
        "id": "BLTFb8Si5SAD"
      },
      "source": [
        "y_pred = clf_mlp.predict(input_test)"
      ],
      "execution_count": null,
      "outputs": []
    },
    {
      "cell_type": "code",
      "metadata": {
        "id": "KyIItG_o5b9i",
        "colab": {
          "base_uri": "https://localhost:8080/"
        },
        "outputId": "96904aa9-523f-4c37-f7d5-235f7b8277ed"
      },
      "source": [
        "accuracy = accuracy_score(target_test, y_pred)\n",
        "print ('Acurácia do modelo MLP: %1.6f' %(accuracy))"
      ],
      "execution_count": null,
      "outputs": [
        {
          "output_type": "stream",
          "text": [
            "Acurácia do modelo MLP: 0.711111\n"
          ],
          "name": "stdout"
        }
      ]
    },
    {
      "cell_type": "markdown",
      "metadata": {
        "id": "uMFEut6JKzNp"
      },
      "source": [
        "### **Pergunta 5**\n",
        "\n",
        "Após dividir as colunas do dataframe entre entrada e saída, aplicar a\n",
        "normalização dos dados como apresentado no enunciado\n",
        "(MinMaxScaler()) e dividir esses dados entre treinamento e teste,\n",
        "aplique o algoritmo **KNN**. Qual é, aproximadamente, a acurácia do\n",
        "modelo?\n",
        "\n",
        "**Resposta:** Acurácia de 0,61"
      ]
    },
    {
      "cell_type": "markdown",
      "metadata": {
        "id": "9HcJK3CbbGW6"
      },
      "source": [
        "### **Pergunta 6**\n",
        "Após dividir as colunas do dataframe entre entrada e saída, aplicar a normalização dos dados como apresentado no enunciado (MinMaxScaler()) e dividir esses dados entre treinamento e teste, aplique os algoritmos KNN, Árvore de Decisão e MLP. Qual dos algoritmos apresentou maior acurácia?\n",
        "\n",
        "**Resposta:** O modelo que mostrou melhor acurácia foi o MLP com 0,71"
      ]
    },
    {
      "cell_type": "markdown",
      "metadata": {
        "id": "yKVKz811cBPG"
      },
      "source": [
        "#**Concorrência e Threads**\n",
        "\n",
        "Os códigos a seguir, são necessários para a resolução das questões 7 e 8"
      ]
    },
    {
      "cell_type": "markdown",
      "metadata": {
        "id": "Kv22wsUyS2zJ"
      },
      "source": [
        "### **Pergunta 7**\n",
        "\n",
        "Utilizando a função mostrada no enunciado, implemente duas chamadas sequenciais e outra chamada sendo realizada por duas threads de maneira concorrente. Sobre essas duas diferentes formas de implementação é CORRETO afirmar:\n",
        "\n",
        "**Resposta:** O tempo de execução através da concorrência é inferior à sequencial, pois cada thread realiza as operações através do chaveamento de contexto. "
      ]
    },
    {
      "cell_type": "markdown",
      "metadata": {
        "id": "UHU7uLYOTKFQ"
      },
      "source": [
        "### **Pergunta 8**\n",
        "\n",
        "Utilizando a função mostrada no enunciado, implemente as duas chamadas sequenciais e outra chamada sendo realizada por duas threads de maneira concorrente. Adicione à chamada concorrente um tempo randômico para cada thread, como apresentado no enunciado. Após a construção dessas implementações, é CORRETO afirmar:\n",
        "\n",
        "**Resposta:** Após a adição desse tempo aleatório sem processamento (dormir), não é possível garantir que a implementação realizada com as duas threads seja realizada em um tempo menor."
      ]
    },
    {
      "cell_type": "code",
      "metadata": {
        "id": "3SnjpWkxcJ9W"
      },
      "source": [
        "import time\n",
        "import random\n",
        "import threading\n",
        "\n",
        "def contador():\n",
        "  x = 100\n",
        "  while x > 0:\n",
        "    x -= 1\n",
        "\n",
        "def imple_sequencial():\n",
        "  contador()\n",
        "  contador()\n",
        "\n",
        "def imple_concorrente():\n",
        "  thread_1 = threading.Thread(target=contador)\n",
        "  thread_2 = threading.Thread(target=contador)\n",
        "  thread_1.start()\n",
        "  thread_2.start()\n",
        "  thread_1.join()\n",
        "  thread_2.join()\n",
        "  #time.sleep(random.randint(1,20)) # Tempo implementado para responder a pergunta 8"
      ],
      "execution_count": 18,
      "outputs": []
    },
    {
      "cell_type": "code",
      "metadata": {
        "id": "kF-rin5OIxcb",
        "colab": {
          "base_uri": "https://localhost:8080/"
        },
        "outputId": "bf6282f1-1a32-4453-a6b2-74929230433e"
      },
      "source": [
        "ti = time.time()\n",
        "imple_sequencial()\n",
        "print(f'tempo de execução imple_sequencial { time.time() - ti }')"
      ],
      "execution_count": 20,
      "outputs": [
        {
          "output_type": "stream",
          "text": [
            "tempo de execução imple_sequencial 4.935264587402344e-05\n"
          ],
          "name": "stdout"
        }
      ]
    },
    {
      "cell_type": "code",
      "metadata": {
        "id": "JQYEZLQkJdmr",
        "colab": {
          "base_uri": "https://localhost:8080/"
        },
        "outputId": "394c7c89-8545-4788-ef07-a7da3571d226"
      },
      "source": [
        "ti = time.time()\n",
        "imple_concorrente()\n",
        "print(f'tempo de execução imple_concorrente { time.time() - ti }')"
      ],
      "execution_count": 19,
      "outputs": [
        {
          "output_type": "stream",
          "text": [
            "tempo de execução imple_concorrente 0.005458354949951172\n"
          ],
          "name": "stdout"
        }
      ]
    },
    {
      "cell_type": "markdown",
      "metadata": {
        "id": "aywNDZcgShhL"
      },
      "source": [
        "# **Programação Reativa**\n",
        "\n",
        "Os códigos a seguir, são necessários para a resolução das questões 9 à 11"
      ]
    },
    {
      "cell_type": "code",
      "metadata": {
        "id": "0FcvY_EBLZm8"
      },
      "source": [
        "!pip install rx"
      ],
      "execution_count": null,
      "outputs": []
    },
    {
      "cell_type": "code",
      "metadata": {
        "id": "Cu2BV19FLDLs"
      },
      "source": [
        "import rx\n",
        "import rx.operators as ops"
      ],
      "execution_count": 22,
      "outputs": []
    },
    {
      "cell_type": "code",
      "metadata": {
        "id": "xkY9JP94LEoL"
      },
      "source": [
        "source = rx.from_iterable([5,4,3,2,1]) #streaming\n",
        "# source = rx.from_iterable([5,4,3,\"2\",1]) #streaming incorreto\n",
        "disposable = source.pipe(\n",
        "    ops.map(lambda i: i if i<3 else 0),\n",
        "    ops.filter(lambda i: i>0),\n",
        "    #ops.filter(lambda i: i%2 == 0)\n",
        "\n",
        ").subscribe(\n",
        "    on_next=lambda i: print(\"on_next: {}\".format(i)),\n",
        "    on_completed=lambda: print(\"on_completed\"),\n",
        "    on_error=lambda e:print(\"on_error: {}\".format(e)),\n",
        ") #inscrição do observer"
      ],
      "execution_count": null,
      "outputs": []
    },
    {
      "cell_type": "markdown",
      "metadata": {
        "id": "JMsJIhfkUEPT"
      },
      "source": [
        "###**Pergunta 9**\n",
        "\n",
        "Utilizando os códigos apresentados no enunciado deste desafio referentes às questões de programação reativa, qual das afirmativas abaixo representa uma possibilidade de transformação sobre os dados enviados pelo **Observable** para que o **Observer** receba apenas números pares?\n",
        "\n",
        "**Resposta:** ```ops.filter(lambda i: i%2 == 0)```\n"
      ]
    },
    {
      "cell_type": "markdown",
      "metadata": {
        "id": "tOGktDy3VBHU"
      },
      "source": [
        "###**Pergunta 10**\n",
        "\n",
        "Utilizando os códigos presentes no enunciado deste desafio referentes às questões de programação reativa, se adicionarmos apenas as operações de map e filter abaixo, qual será o resultado?\n",
        "\n",
        "```\n",
        "ops.map(lambda i: i if i<3 else 0),\n",
        "ops.filter(lambda i: i>0),\n",
        "```\n",
        "\n",
        "**Resposta:** Os valores 2 e 1 seriam exibidos no “on_next”. "
      ]
    },
    {
      "cell_type": "markdown",
      "metadata": {
        "id": "8Y12iZ3vWdzC"
      },
      "source": [
        "###**Pergunta 11**\n",
        "\n",
        "Utilizando os códigos presentes no enunciado deste desafio referentes às questões de programação reativa, substitua a lista [5,4,3,2,1] pela lista [5,4,3,”2”,1]. Adicione apenas a operação de filtro\n",
        "\n",
        "```\n",
        "ops.filter(lambda i: i%==0)\n",
        "```\n",
        "\n",
        "**Resposta:** Será apresentado no “on_next” o segundo número da lista e um “on_error”."
      ]
    },
    {
      "cell_type": "markdown",
      "metadata": {
        "id": "GWBVbPYaTbin"
      },
      "source": [
        "# **Pygame**\n",
        "\n",
        "Os códigos a seguir, são necessários para a resolução das questões 12 à 15\n",
        "\n",
        "**Obs.:** Esse código não roda em um notebook, devido a limitação para gerar o **video device**, para rodar é necessário implementá-lo em uma IDE, fica aqui a caráter informativo."
      ]
    },
    {
      "cell_type": "code",
      "metadata": {
        "id": "50FldKM1LrhM"
      },
      "source": [
        "!pip install pygame"
      ],
      "execution_count": null,
      "outputs": []
    },
    {
      "cell_type": "code",
      "metadata": {
        "id": "rShttxGoLxNb"
      },
      "source": [
        "# coding: iso-8859-1 -*-\n",
        "import pygame\n",
        "from pygame.locals import *\n",
        "from sys import exit\n",
        "\n",
        "pygame.init()\n",
        "\n",
        "screen = pygame.display.set_mode((720, 640))\n",
        "pygame.display.set_caption(\"Desafio Módulo IV\")\n",
        "\n",
        "\n",
        "while True:\n",
        "\n",
        "    pygame.draw.rect(screen, (255,0,0), [360,320,10,10])\n",
        "    for event in pygame.event.get():\n",
        "        if event.type == QUIT:\n",
        "            pygame.quit()\n",
        "            exit()\n",
        "        event.type==KEYDOWN\n",
        "        screen.fill((255,0,255))\n",
        "\n",
        "        x, y = pygame.mouse.get_pos()\n",
        "\n",
        "        print (x,y)\n",
        "\n",
        "    pygame.display.update()"
      ],
      "execution_count": null,
      "outputs": []
    },
    {
      "cell_type": "markdown",
      "metadata": {
        "id": "PVLlYE4oXq6D"
      },
      "source": [
        "###**Pergunta 12**\n",
        "\n",
        "Sobre o código presente no enunciado referente às questões do Pygame, é INCORRETO afirmar que:\n",
        "\n",
        "**Resposta:** Mesmo que o cursor do mouse seja posicionado fora da tela do jogo, será exibido um “print” com a posição atual."
      ]
    },
    {
      "cell_type": "markdown",
      "metadata": {
        "id": "xpBrrm5nZJ4D"
      },
      "source": [
        "###**Pergunta 13**\n",
        "\n",
        "Utilize como base o esboço de código para as questões do Pygame. Quais modificações seriam necessárias para capturar, de maneira contínua, os eventos de teclas digitadas?\n",
        "\n",
        "**Resposta:** Adicionar, entre as linhas 18 e 20, a captura dos eventos através do `event.type==KEYDOWN`"
      ]
    },
    {
      "cell_type": "markdown",
      "metadata": {
        "id": "FV5v_u1ObXtk"
      },
      "source": [
        "###**Pergunta 14**\n",
        "Utilizando o código referente às questões do Pygame, adicione, à tela, um retângulo vermelho de dimensões 10x10 pixels. Quais alterações devem ser realizadas?\n",
        "\n",
        "**Resposta:** Adicionar, entre as linhas 12 e 14, a chamada `pygame.draw.rect(screen, (255,0,0), [360,320,10,10])`."
      ]
    },
    {
      "cell_type": "markdown",
      "metadata": {
        "id": "cl57Vvc8bXdb"
      },
      "source": [
        "###**Pergunta 15**\n",
        "Utilizando o código referente às questões do Pygame e o retângulo criado ao centro da tela, quais alterações poderiam ser realizadas para realizar a movimentação deste retângulo através das teclas direcionais do teclado?\n",
        "\n",
        "**Resposta:** Adicionar, entre as linhas 17 e 19, a captura do evento de pressionar uma tecla, identificar as teclas pressionadas e atualizar a posição do retângulo."
      ]
    }
  ]
}