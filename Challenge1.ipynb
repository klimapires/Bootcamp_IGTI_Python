{
  "nbformat": 4,
  "nbformat_minor": 0,
  "metadata": {
    "orig_nbformat": 2,
    "colab": {
      "name": "Challenge1.ipynb",
      "provenance": []
    },
    "kernelspec": {
      "name": "python3",
      "display_name": "Python 3"
    }
  },
  "cells": [
    {
      "cell_type": "markdown",
      "metadata": {
        "id": "4_2yLJ7H5fzw"
      },
      "source": [
        "**Código para questões 1 à 4**"
      ]
    },
    {
      "cell_type": "code",
      "metadata": {
        "id": "LAPUM0SFvCwM",
        "outputId": "c823e8c3-8d9d-445f-f542-384b4dddb9c4",
        "colab": {
          "base_uri": "https://localhost:8080/",
          "height": 34
        }
      },
      "source": [
        "def funcao_1 (num1, num2):\n",
        "  resultado = num1 * num2\n",
        "  if resultado <= 1000: #resultado%2==0:\n",
        "    return resultado\n",
        "  #else:\n",
        "  #  return num1 + num2\n",
        "\n",
        "print(funcao_1(120,10))\n",
        "numero_1 = 20\n",
        "numero2 = 30"
      ],
      "execution_count": null,
      "outputs": [
        {
          "output_type": "stream",
          "text": [
            "None\n"
          ],
          "name": "stdout"
        }
      ]
    },
    {
      "cell_type": "markdown",
      "metadata": {
        "id": "0P36lAprHz2b"
      },
      "source": [
        "**Código para questões 5 e 6**"
      ]
    },
    {
      "cell_type": "code",
      "metadata": {
        "id": "hiC-DmL3HveC",
        "outputId": "3ad041ad-9de4-4b18-dc1c-d4899be74e22",
        "colab": {
          "base_uri": "https://localhost:8080/",
          "height": 187
        }
      },
      "source": [
        "def funcao_2(num):\n",
        "  numero_anterior = 0\n",
        "  for i in range(num):\n",
        "    resultado = numero_anterior + i\n",
        "    print(\"Numero A\", i, \"Numero B \", numero_anterior, \"Resultado: \", resultado)\n",
        "    numero_anterior = i\n",
        "\n",
        "funcao_2(10)"
      ],
      "execution_count": null,
      "outputs": [
        {
          "output_type": "stream",
          "text": [
            "Numero A 0 Numero B  0 Resultado:  0\n",
            "Numero A 1 Numero B  0 Resultado:  1\n",
            "Numero A 2 Numero B  1 Resultado:  3\n",
            "Numero A 3 Numero B  2 Resultado:  5\n",
            "Numero A 4 Numero B  3 Resultado:  7\n",
            "Numero A 5 Numero B  4 Resultado:  9\n",
            "Numero A 6 Numero B  5 Resultado:  11\n",
            "Numero A 7 Numero B  6 Resultado:  13\n",
            "Numero A 8 Numero B  7 Resultado:  15\n",
            "Numero A 9 Numero B  8 Resultado:  17\n"
          ],
          "name": "stdout"
        }
      ]
    },
    {
      "cell_type": "markdown",
      "metadata": {
        "id": "cXb9uxeLLxO_"
      },
      "source": [
        "**Código para questões ???**"
      ]
    },
    {
      "cell_type": "code",
      "metadata": {
        "id": "T1DZXZiXLXEs"
      },
      "source": [
        "def funcao_3(str):\n",
        "  for i in range(0, len(str)-1, 2):\n",
        "    print(\"indice[\",i,sttr[i])"
      ],
      "execution_count": null,
      "outputs": []
    },
    {
      "cell_type": "markdown",
      "metadata": {
        "id": "greuuWiZMKq6"
      },
      "source": [
        "**Código para questões 7 e 8**"
      ]
    },
    {
      "cell_type": "code",
      "metadata": {
        "id": "ptMuyQ7zMSTm",
        "outputId": "8093b788-cadd-4337-cb22-fa78d22459c4",
        "colab": {
          "base_uri": "https://localhost:8080/",
          "height": 51
        }
      },
      "source": [
        "def funcao_4(lista_numerica):\n",
        "  print(\"valor passado\", lista_numerica)\n",
        "  a = lista_numerica[0]\n",
        "  b = lista_numerica[-1]\n",
        "  if (a == b):\n",
        "    return True\n",
        "  else:\n",
        "    return False\n",
        "\n",
        "numeros = [12,3,23,11]\n",
        "print(funcao_4(numeros))"
      ],
      "execution_count": null,
      "outputs": [
        {
          "output_type": "stream",
          "text": [
            "valor passado [12, 3, 23, 11]\n",
            "False\n"
          ],
          "name": "stdout"
        }
      ]
    },
    {
      "cell_type": "markdown",
      "metadata": {
        "id": "M5YTazR4Mi5J"
      },
      "source": [
        "**Código para questões 9 e 10**"
      ]
    },
    {
      "cell_type": "code",
      "metadata": {
        "id": "NKEZ6rZUMnYl",
        "outputId": "8702270e-69c6-4239-8817-65e3d59c67ad",
        "colab": {
          "base_uri": "https://localhost:8080/",
          "height": 34
        }
      },
      "source": [
        "class Classe_1:\n",
        "  def funcao_da_classe_1(self, string):\n",
        "    dicionario = {'I': 1, 'V': 5, 'X':10, 'L': 50, 'C': 100, 'D': 500, 'M': 1000}\n",
        "    valor = 0\n",
        "    for i in range(len(string)):\n",
        "      if i > 0 and dicionario[string[i]] > dicionario[string[i - 1]]:\n",
        "        valor += dicionario[string[i]] - 2 * dicionario[string[i - 1]]\n",
        "      else:\n",
        "        valor += dicionario[string[i]]\n",
        "    return valor\n",
        "  \n",
        "verifica = Classe_1()\n",
        "\n",
        "verifica.funcao_da_classe_1(\"I\")"
      ],
      "execution_count": null,
      "outputs": [
        {
          "output_type": "execute_result",
          "data": {
            "text/plain": [
              "1"
            ]
          },
          "metadata": {
            "tags": []
          },
          "execution_count": 21
        }
      ]
    },
    {
      "cell_type": "markdown",
      "metadata": {
        "id": "qlUBoi6MM-eR"
      },
      "source": [
        "**Código para questão 11**"
      ]
    },
    {
      "cell_type": "code",
      "metadata": {
        "id": "UgAMnKQiMukB",
        "outputId": "3899085f-fe49-4113-c5f6-7cf184c937cb",
        "colab": {
          "base_uri": "https://localhost:8080/",
          "height": 51
        }
      },
      "source": [
        "class A:\n",
        "  def __init__(self):\n",
        "    self.calcI(40)\n",
        "    print(\"i da Classe A\", self.i)\n",
        "  \n",
        "  def calcI(self, i):\n",
        "    self.i = 2 * i;\n",
        "\n",
        "class B(A):\n",
        "  def __init__(self):\n",
        "    super().__init__()\n",
        "\n",
        "  def calcI(self, i):\n",
        "    print(i)\n",
        "    self.i = 3 * i;\n",
        "b = B()"
      ],
      "execution_count": null,
      "outputs": [
        {
          "output_type": "stream",
          "text": [
            "40\n",
            "i da Classe A 120\n"
          ],
          "name": "stdout"
        }
      ]
    },
    {
      "cell_type": "markdown",
      "metadata": {
        "id": "jsgjTW41NgJJ"
      },
      "source": [
        "**Código para questões 12 e 13**"
      ]
    },
    {
      "cell_type": "code",
      "metadata": {
        "id": "fTA17pq4NcVi",
        "outputId": "ebe3c25f-9efb-4c2f-8cc7-fcff7c113e4c",
        "colab": {
          "base_uri": "https://localhost:8080/",
          "height": 34
        }
      },
      "source": [
        "class Classe_2():\n",
        "  def __init__(self, l, w):\n",
        "    self.a = l\n",
        "    self.b = w\n",
        "    #print (a, b)\n",
        "  \n",
        "  def metodo_1(self):\n",
        "    #print(a)\n",
        "    #print(b)\n",
        "    return self.a*self.b\n",
        "\n",
        "retangulo = Classe_2(15, 10)\n",
        "\n",
        "print (\"A área do retâgulo é:\", retangulo.metodo_1())"
      ],
      "execution_count": null,
      "outputs": [
        {
          "output_type": "stream",
          "text": [
            "A área do retâgulo é: 150\n"
          ],
          "name": "stdout"
        }
      ]
    }
  ]
}